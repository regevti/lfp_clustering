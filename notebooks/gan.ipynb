{
 "cells": [
  {
   "cell_type": "code",
   "execution_count": 1,
   "metadata": {
    "collapsed": true
   },
   "outputs": [],
   "source": [
    "%load_ext autoreload\n",
    "%autoreload 2\n",
    "import tensorflow as tf\n",
    "import numpy as np\n",
    "import pandas as pd\n",
    "import matplotlib.pyplot as plt\n",
    "from readers.base import NeuralynxReader"
   ]
  },
  {
   "cell_type": "code",
   "execution_count": 2,
   "outputs": [
    {
     "name": "stderr",
     "output_type": "stream",
     "text": [
      "2022-03-31 10:13:12.400172: I tensorflow/stream_executor/cuda/cuda_gpu_executor.cc:936] successful NUMA node read from SysFS had negative value (-1), but there must be at least one NUMA node, so returning NUMA node zero\n",
      "2022-03-31 10:13:12.442500: I tensorflow/stream_executor/cuda/cuda_gpu_executor.cc:936] successful NUMA node read from SysFS had negative value (-1), but there must be at least one NUMA node, so returning NUMA node zero\n",
      "2022-03-31 10:13:12.442653: I tensorflow/stream_executor/cuda/cuda_gpu_executor.cc:936] successful NUMA node read from SysFS had negative value (-1), but there must be at least one NUMA node, so returning NUMA node zero\n"
     ]
    },
    {
     "data": {
      "text/plain": "[PhysicalDevice(name='/physical_device:GPU:0', device_type='GPU')]"
     },
     "execution_count": 2,
     "metadata": {},
     "output_type": "execute_result"
    }
   ],
   "source": [
    "tf.config.list_physical_devices('GPU')"
   ],
   "metadata": {
    "collapsed": false,
    "pycharm": {
     "name": "#%%\n"
    }
   }
  },
  {
   "cell_type": "code",
   "execution_count": 26,
   "outputs": [
    {
     "name": "stdout",
     "output_type": "stream",
     "text": [
      "Buffered Matrix size: (4, 768)\n",
      "Number of segments after buffering: 4\n",
      "start run of segment function...\n",
      "scales used: [16, 21, 26, 31, 36, 41, 46, 56, 76, 106, 171, 521]\n",
      "start creation of sig_df...\n"
     ]
    },
    {
     "data": {
      "text/plain": "  0%|          | 0/4 [00:00<?, ?it/s]",
      "application/vnd.jupyter.widget-view+json": {
       "version_major": 2,
       "version_minor": 0,
       "model_id": "647f777b73b74fe5b3e7f4e648577f90"
      }
     },
     "metadata": {},
     "output_type": "display_data"
    },
    {
     "data": {
      "text/plain": "(4, 768, 12)"
     },
     "execution_count": 26,
     "metadata": {},
     "output_type": "execute_result"
    }
   ],
   "source": [
    "rd = NeuralynxReader('/media/sil2/Lizard/lorenz_data/2019-11-17_17-43-33', channel=32, lowpass=50, decimate_q=10, wavelet='morl', window=1.2, overlap=0.5,\n",
    "                     use_multiprocessing=False, use_slow_cycles=False, is_flat_cwt=False)\n",
    "V, _, _ = rd.read_segmented(i_start=0, i_stop=int(rd.fs * 60))\n",
    "V.shape"
   ],
   "metadata": {
    "collapsed": false,
    "pycharm": {
     "name": "#%%\n"
    }
   }
  },
  {
   "cell_type": "code",
   "execution_count": 18,
   "outputs": [
    {
     "name": "stdout",
     "output_type": "stream",
     "text": [
      "(2, 3, 4)\n",
      "(2, 3)\n",
      "(2, 3)\n",
      "(2, 3)\n",
      "(2, 3)\n"
     ]
    }
   ],
   "source": [
    "x = np.array([[1,2,3],[3,4,5]])\n",
    "x = np.dstack([x,x,x,x])\n",
    "print(x.shape)\n",
    "for xx in np.rollaxis(x,2):\n",
    "    print(xx.shape)"
   ],
   "metadata": {
    "collapsed": false,
    "pycharm": {
     "name": "#%%\n"
    }
   }
  },
  {
   "cell_type": "code",
   "execution_count": null,
   "outputs": [],
   "source": [
    "def make_gen_model(latent_dim, n_inputs=768):\n",
    "    model = tf.keras.Sequential()\n",
    "    model.add(tf.keras.layers.ConvLSTM2D(32, activation='relu', kernel_initializer='he_uniform', input_dim=n_inputs))\n",
    "    tf.keras.layers.UpSampling2D(size=(2, 2), data_format=None, interpolation=\"nearest\")"
   ],
   "metadata": {
    "collapsed": false,
    "pycharm": {
     "name": "#%%\n"
    }
   }
  },
  {
   "cell_type": "code",
   "execution_count": null,
   "outputs": [],
   "source": [
    "def make_gen_model(latent_dim, n_outputs=256):\n",
    "    model = tf.keras.Sequential()\n",
    "    model.add(tf.keras.layers.Dense(32, activation='relu', kernel_initializer='he_uniform', input_dim=latent_dim))\n",
    "    model.add(tf.keras.layers.Dense(64, activation='relu', kernel_initializer='he_uniform'))\n",
    "    model.add(tf.keras.layers.Dense(128, activation='relu', kernel_initializer='he_uniform'))\n",
    "    model.add(tf.keras.layers.Dense(n_outputs, activation='linear'))\n",
    "    return model\n",
    "\n",
    "def make_disc_model(n_inputs=256):\n",
    "    model = tf.keras.Sequential()\n",
    "    model.add(tf.keras.layers.Dense(128, activation='relu', kernel_initializer='he_uniform', input_dim=n_inputs))\n",
    "    model.add(tf.keras.layers.Dense(128, activation='relu', kernel_initializer='he_uniform'))\n",
    "    model.add(tf.keras.layers.Dense(32, activation='relu', kernel_initializer='he_uniform'))\n",
    "    model.add(tf.keras.layers.Dense(1, activation='sigmoid'))\n",
    "    model.compile(loss='binary_crossentropy', optimizer='adam', metrics=['accuracy'])\n",
    "    return model\n",
    "\n",
    "def make_gan_model(disc_model, gen_modl):\n",
    "    disc_model.trainable = False\n",
    "    model = tf.keras.Sequential()\n",
    "    model.add(gen_modl)\n",
    "    model.add(disc_model)\n",
    "    model.compile(loss='binary_crossentropy', optimizer='adam')\n",
    "    return model\n",
    "\n",
    "def train(disc_model, gen_model, gan_model, epochs, latent_dim = 5):\n",
    "    batch_size = 128\n",
    "    half_batch = int(batch_size / 2)\n",
    "    for i in range(epochs):\n",
    "    x_real, y_real = generate_real_sample(half_batch)\n",
    "    x_fake, y_fake = generate_fake_sample(gen_model, latent_dim, half_batch)\n",
    "    disc_model.train_on_batch(x_real, y_real)\n",
    "    disc_model.train_on_batch(x_fake, y_fake)\n",
    "    x_gan = generate_latent_points(latent_dim, batch_size)\n",
    "    y_gan = np.ones((batch_size, 1))\n",
    "    gan_model.train_on_batch(x_gan, y_gan)"
   ],
   "metadata": {
    "collapsed": false,
    "pycharm": {
     "name": "#%%\n"
    }
   }
  }
 ],
 "metadata": {
  "kernelspec": {
   "display_name": "Python 3",
   "language": "python",
   "name": "python3"
  },
  "language_info": {
   "codemirror_mode": {
    "name": "ipython",
    "version": 2
   },
   "file_extension": ".py",
   "mimetype": "text/x-python",
   "name": "python",
   "nbconvert_exporter": "python",
   "pygments_lexer": "ipython2",
   "version": "2.7.6"
  }
 },
 "nbformat": 4,
 "nbformat_minor": 0
}