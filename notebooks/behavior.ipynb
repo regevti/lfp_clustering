{
 "cells": [
  {
   "cell_type": "code",
   "execution_count": 1,
   "metadata": {
    "collapsed": true
   },
   "outputs": [
    {
     "name": "stderr",
     "output_type": "stream",
     "text": [
      "2022-04-30 15:23:15.952602: W tensorflow/stream_executor/platform/default/dso_loader.cc:64] Could not load dynamic library 'libcudart.so.11.0'; dlerror: libcudart.so.11.0: cannot open shared object file: No such file or directory\n",
      "2022-04-30 15:23:15.952628: I tensorflow/stream_executor/cuda/cudart_stub.cc:29] Ignore above cudart dlerror if you do not have a GPU set up on your machine.\n"
     ]
    }
   ],
   "source": [
    "%load_ext autoreload\n",
    "%autoreload 2\n",
    "from readers.base import NeuralynxReader\n",
    "from pathlib import Path\n",
    "import matplotlib.pyplot as plt\n",
    "from scipy.signal import find_peaks, decimate\n",
    "import numpy as np\n",
    "from tensorflow.keras.applications import EfficientNetB2\n",
    "import pandas as pd\n",
    "import stumpy\n",
    "import cv2\n",
    "from numba import cuda\n",
    "import matplotlib.colors as mcolors\n",
    "from detectors.motives import MotifFinder\n",
    "%matplotlib tk"
   ]
  },
  {
   "cell_type": "code",
   "execution_count": 4,
   "outputs": [],
   "source": [
    "rootdir, channel = '/media/sil2/Data/Lizard/Pogona Data/Lizard15/12.14.2015/18-26-12_cheetah', 32  # mark\n",
    "video_file = f'{Path(rootdir).parent}/18-26-12_videos/2015-12-14_18-26-12-sub-10-fullFile--614316-Converted--1-614316.avi'"
   ],
   "metadata": {
    "collapsed": false,
    "pycharm": {
     "name": "#%%\n"
    }
   }
  },
  {
   "cell_type": "code",
   "execution_count": 3,
   "outputs": [
    {
     "name": "stdout",
     "output_type": "stream",
     "text": [
      "Reader initialized. fs=32000Hz, duration=17.1 hours\n"
     ]
    }
   ],
   "source": [
    "rd = NeuralynxReader(rootdir, channel=channel)\n",
    "sc = rd.load_slow_cycles()\n",
    "print(f'Reader initialized. fs={rd.fs:.0f}Hz, duration={rd.time_vector[-1]/3600:.1f} hours')"
   ],
   "metadata": {
    "collapsed": false,
    "pycharm": {
     "name": "#%%\n"
    }
   }
  },
  {
   "cell_type": "code",
   "execution_count": 11,
   "outputs": [],
   "source": [
    "vid = cv2.VideoCapture(video_file)\n",
    "pics = []\n",
    "for _ in range(3):\n",
    "  ret, frame = vid.read()\n",
    "  gray = cv2.cvtColor(frame ,cv2.COLOR_BGR2GRAY)\n",
    "  gray = cv2.resize(gray, (0, 0), fx=0.3, fy=0.3)\n",
    "  pics.append(gray)"
   ],
   "metadata": {
    "collapsed": false,
    "pycharm": {
     "name": "#%%\n"
    }
   }
  },
  {
   "cell_type": "code",
   "execution_count": null,
   "outputs": [],
   "source": [
    "descriptors = np.array([])\n",
    "for pic in pics:\n",
    "    kp, des = cv2.SIFT().detectAndCompute(pic, None)\n",
    "    descriptors = np.append(descriptors, des)\n",
    "\n",
    "desc = np.reshape(descriptors, (len(descriptors)/128, 128))\n",
    "desc = np.float32(desc)\n",
    "desc.shape"
   ],
   "metadata": {
    "collapsed": false,
    "pycharm": {
     "name": "#%%\n",
     "is_executing": true
    }
   }
  },
  {
   "cell_type": "code",
   "execution_count": null,
   "outputs": [],
   "source": [
    "del descriptors, des, kp, pic"
   ],
   "metadata": {
    "collapsed": false,
    "pycharm": {
     "name": "#%%\n"
    }
   }
  },
  {
   "cell_type": "code",
   "execution_count": 20,
   "outputs": [
    {
     "data": {
      "text/plain": "array([[ 0.,  0.,  0., ...,  0.,  0., 30.],\n       [ 0., 23., 79., ..., 28., 11.,  0.],\n       [ 8., 52., 79., ..., 10.,  9.,  1.],\n       ...,\n       [ 3.,  0.,  1., ...,  0.,  0.,  0.],\n       [ 1., 15., 11., ...,  0.,  0.,  1.],\n       [ 3.,  0.,  0., ...,  0.,  0.,  0.]], dtype=float32)"
     },
     "execution_count": 20,
     "metadata": {},
     "output_type": "execute_result"
    }
   ],
   "source": [
    "sift = cv2.SIFT_create()\n",
    "kp, des = sift.detectAndCompute(gray, None)\n",
    "des"
   ],
   "metadata": {
    "collapsed": false,
    "pycharm": {
     "name": "#%%\n"
    }
   }
  },
  {
   "cell_type": "code",
   "execution_count": null,
   "outputs": [],
   "source": [],
   "metadata": {
    "collapsed": false,
    "pycharm": {
     "name": "#%%\n"
    }
   }
  }
 ],
 "metadata": {
  "kernelspec": {
   "display_name": "Python 3",
   "language": "python",
   "name": "python3"
  },
  "language_info": {
   "codemirror_mode": {
    "name": "ipython",
    "version": 2
   },
   "file_extension": ".py",
   "mimetype": "text/x-python",
   "name": "python",
   "nbconvert_exporter": "python",
   "pygments_lexer": "ipython2",
   "version": "2.7.6"
  }
 },
 "nbformat": 4,
 "nbformat_minor": 0
}