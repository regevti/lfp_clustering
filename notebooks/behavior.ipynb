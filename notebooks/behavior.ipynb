{
 "cells": [
  {
   "cell_type": "code",
   "execution_count": null,
   "outputs": [],
   "source": [
    "%load_ext autoreload\n",
    "%autoreload 2\n",
    "import cv2\n",
    "from pathlib import Path\n",
    "from tqdm.auto import tqdm\n",
    "from scipy.io import savemat\n",
    "import gzip\n",
    "import pickle\n",
    "import h5py\n",
    "import json\n",
    "import numpy as np\n",
    "import pandas as pd\n",
    "import matplotlib.pyplot as plt\n",
    "from PIL import Image\n",
    "\n",
    "import torch\n",
    "import torch.nn as nn\n",
    "\n",
    "import tensorflow as tf\n",
    "from tensorflow.keras.preprocessing import image\n",
    "from tensorflow.keras.models import Model\n",
    "from tensorflow.keras.applications.resnet50 import ResNet50, preprocess_input\n",
    "from tensorflow.keras.applications.resnet import ResNet101, preprocess_input\n",
    "from torchinfo import summary\n",
    "\n",
    "import sys\n",
    "sys.path += ['../Adversarial_Video_Summary']\n",
    "from solver import Solver\n",
    "from data_loader import get_loader\n",
    "from feature_extraction import resnet_transform, ResNetFeature\n",
    "\n",
    "tf.config.list_physical_devices('GPU')"
   ],
   "metadata": {
    "collapsed": false,
    "pycharm": {
     "name": "#%%\n"
    }
   }
  },
  {
   "cell_type": "code",
   "execution_count": null,
   "outputs": [],
   "source": [
    "# video_file ='/media/sil2/Data/Lizard/Pogona Data/Lizard15/12.14.2015/16-44-20_videos/2015-12-14_16-44-20-sub-10-fullFile--57370-Converted--1-57370.avi'\n",
    "# video_file = '/media/sil2/Data/Lizard/Pogona Data/Lizard15/12.14.2015/16-44-20_videos/2015-12-14_16-44-20-allFrames---57370-Converted--42680-57370.avi'\n",
    "video_file = '/media/sil2/Data/Lizard/Pogona Data/Lizard15/12.14.2015/16-44-20_videos/20151214003_1.AVI'"
   ],
   "metadata": {
    "collapsed": false,
    "pycharm": {
     "name": "#%%\n"
    }
   }
  },
  {
   "cell_type": "code",
   "execution_count": null,
   "outputs": [],
   "source": [
    "def print_gpu_usage():\n",
    "    print('GPU Usage: Allocated:', round(torch.cuda.memory_allocated(0)/1024**3,1), 'GB', '| Cached:   ', round(torch.cuda.memory_reserved(0)/1024**3,1), 'GB')\n",
    "    \n",
    "def prepare_data_dir(video_name):\n",
    "    p = f'/media/sil2/Data/regev/SUM_GAN/videos/resnet101_feature/{video_name}'\n",
    "    Path(f'{p}/train').mkdir(exist_ok=True, parents=True)\n",
    "    Path(f'{p}/test').mkdir(exist_ok=True, parents=True)\n",
    "    return p"
   ],
   "metadata": {
    "collapsed": false,
    "pycharm": {
     "name": "#%%\n"
    }
   }
  },
  {
   "cell_type": "code",
   "execution_count": null,
   "outputs": [],
   "source": [
    "\n",
    "\n",
    "BATCH_SIZE = 32\n",
    "features_path = prepare_data_dir(video_name='pogona_mark4')\n",
    "vid = cv2.VideoCapture(video_file)\n",
    "n_frames = int(vid.get(cv2.CAP_PROP_FRAME_COUNT))\n",
    "prev_frame = None\n",
    "features = []\n",
    "rsnt = ResNetFeature()\n",
    "\n",
    "for i in tqdm(range(n_frames)):\n",
    "    ret, frame = vid.read()\n",
    "    if i > 0 and cv2.absdiff(frame,prev_frame).mean() < 3:\n",
    "        continue\n",
    "    \n",
    "    PIL_image = Image.fromarray(np.uint8(frame)).convert('RGB')\n",
    "    x = resnet_transform(PIL_image)\n",
    "    _, P = rsnt(x.unsqueeze(0).cuda())\n",
    "    features.append(P)\n",
    "    if len(features) >= BATCH_SIZE:\n",
    "        features = torch.stack(features).cpu().detach().numpy()\n",
    "        mode = 'train' if np.random.random() > 0.2 else 'test'\n",
    "        with h5py.File(f'{features_path}/{mode}/{i}.h5', 'w') as f:\n",
    "            f.create_dataset(\"pool5\", data=features)\n",
    "        features = []\n",
    "    \n",
    "    prev_frame = frame"
   ],
   "metadata": {
    "collapsed": false,
    "pycharm": {
     "name": "#%%\n"
    }
   }
  },
  {
   "cell_type": "code",
   "execution_count": null,
   "outputs": [],
   "source": [
    "# Read Mark's Excel\n",
    "\n",
    "exps = pd.read_excel('/media/sil2/Data/Lizard/SleepExp.xlsx')\n",
    "exps = exps.query('VideoFiles==VideoFiles and VideoFiles!=\"-\"')\n",
    "for i, row in exps.iterrows():\n",
    "    folder = row[\"folder\"].replace('\\\\', '/').replace('Z:/', '/media/sil2/Data/')\n",
    "    print(f'{folder}/{row[\"VideoFiles\"]}')"
   ],
   "metadata": {
    "collapsed": false,
    "pycharm": {
     "name": "#%%\n"
    }
   }
  },
  {
   "cell_type": "code",
   "execution_count": null,
   "outputs": [],
   "source": [],
   "metadata": {
    "collapsed": false,
    "pycharm": {
     "name": "#%%\n"
    }
   }
  },
  {
   "cell_type": "code",
   "execution_count": null,
   "outputs": [],
   "source": [
    "with open('/home/regev/SUM_GAN/score/pogona_mark2_49.json', 'r') as f:\n",
    "    scores = json.load(f)\n",
    "    \n",
    "S = []\n",
    "for k, v in scores.items():\n",
    "    S.append(v)\n",
    "\n",
    "S = np.vstack(S)\n",
    "S[:,2]"
   ],
   "metadata": {
    "collapsed": false,
    "pycharm": {
     "name": "#%%\n"
    }
   }
  },
  {
   "cell_type": "code",
   "execution_count": null,
   "outputs": [],
   "source": [
    "from configs import Config\n",
    "\n",
    "\n",
    "config = Config(mode='train', preprocessed=True, video_type='pogona_mark2', epoch=2, input_size=2048, hidden_size=500, num_layers=2, lr=1e-4, discriminator_lr=1e-5)\n",
    "test_config = Config(mode='test', preprocessed=True, video_type='pogona_mark2', epoch=2, input_size=2048, hidden_size=500, num_layers=2, lr=1e-4, discriminator_lr=1e-5)\n",
    "train_loader = get_loader(config.video_root_dir, config.mode)\n",
    "test_loader = get_loader(test_config.video_root_dir, test_config.mode)\n",
    "solver = Solver(config, train_loader, test_loader)\n",
    "solver.build()\n",
    "model = solver.model\n",
    "checkpoint = torch.load('/home/regev/SUM_GAN/cache/pogona_mark2_epoch-49.pkl')\n",
    "model.load_state_dict(checkpoint)\n",
    "model.eval()\n",
    "summary(model, input_size=(32,2048))"
   ],
   "metadata": {
    "collapsed": false,
    "pycharm": {
     "name": "#%%\n"
    }
   }
  },
  {
   "cell_type": "code",
   "execution_count": null,
   "outputs": [],
   "source": [],
   "metadata": {
    "collapsed": false,
    "pycharm": {
     "name": "#%%\n"
    }
   }
  },
  {
   "cell_type": "code",
   "execution_count": null,
   "outputs": [],
   "source": [],
   "metadata": {
    "collapsed": false,
    "pycharm": {
     "name": "#%%\n"
    }
   }
  },
  {
   "cell_type": "code",
   "execution_count": null,
   "outputs": [],
   "source": [],
   "metadata": {
    "collapsed": false,
    "pycharm": {
     "name": "#%%\n"
    }
   }
  },
  {
   "cell_type": "code",
   "execution_count": null,
   "outputs": [],
   "source": [
    "%load_ext tensorboard\n",
    "from solver import Solver\n",
    "from data_loader import get_loader\n",
    "\n",
    "train_loader = get_loader(Path(features_path), 'train')\n",
    "test_loader = get_loader(Path(features_path), 'test')\n",
    "solver = Solver(features_path, train_loader, test_loader)\n",
    "solver.build()\n",
    "solver.train()"
   ],
   "metadata": {
    "collapsed": false,
    "pycharm": {
     "name": "#%%\n"
    }
   }
  },
  {
   "cell_type": "code",
   "execution_count": 76,
   "metadata": {
    "pycharm": {
     "name": "#%%\n"
    }
   },
   "outputs": [
    {
     "data": {
      "text/plain": [
       "28810"
      ]
     },
     "execution_count": 76,
     "metadata": {},
     "output_type": "execute_result"
    }
   ],
   "source": [
    "len(frame_ids)"
   ]
  },
  {
   "cell_type": "code",
   "execution_count": 80,
   "metadata": {
    "pycharm": {
     "name": "#%%\n"
    },
    "tags": []
   },
   "outputs": [
    {
     "data": {
      "application/vnd.jupyter.widget-view+json": {
       "model_id": "043191ddd3fa4830a4008d573f2d4820",
       "version_major": 2,
       "version_minor": 0
      },
      "text/plain": [
       "  0%|          | 0/311174 [00:00<?, ?it/s]"
      ]
     },
     "metadata": {},
     "output_type": "display_data"
    },
    {
     "name": "stdout",
     "output_type": "stream",
     "text": [
      "CPU times: user 1h 33min 22s, sys: 7min 21s, total: 1h 40min 43s\n",
      "Wall time: 1h 21min 25s\n"
     ]
    }
   ],
   "source": [
    "%%time\n",
    "\n",
    "BATCH_SIZE = 32\n",
    "features_path = '/media/sil2/Data/regev/SUM_GAN/videos/resnet101_feature/pogona_mark3'\n",
    "Path(f'{features_path}/train').mkdir(exist_ok=True, parents=True)\n",
    "Path(f'{features_path}/test').mkdir(exist_ok=True, parents=True)\n",
    "\n",
    "vid = cv2.VideoCapture(video_file)\n",
    "n_frames = int(vid.get(cv2.CAP_PROP_FRAME_COUNT))\n",
    "features = []\n",
    "prev_frame = None\n",
    "for i in tqdm(range(n_frames)):\n",
    "    ret, frame = vid.read()\n",
    "    if not ret:\n",
    "        print(f'no frame {i}; Abort.')\n",
    "        break\n",
    "    \n",
    "    if i > 0 and cv2.absdiff(frame,prev_frame).mean() < 3:\n",
    "        continue\n",
    "    \n",
    "    prev_frame = frame\n",
    "    \n",
    "    frame = image.smart_resize(frame, (224, 224))\n",
    "    x = image.img_to_array(frame)\n",
    "    x = np.expand_dims(x, axis=0)\n",
    "    x = preprocess_input(x)\n",
    "    \n",
    "    if len(features) < BATCH_SIZE:\n",
    "        features.append(x)\n",
    "        continue\n",
    "    \n",
    "    features_ = np.vstack(features[1:] + [x])\n",
    "    P = model.predict(features_, batch_size=BATCH_SIZE)\n",
    "    with h5py.File(f'{features_path}/train/{i}.h5', 'w') as f:\n",
    "        f.create_dataset(\"pool5\", data=P)"
   ]
  },
  {
   "cell_type": "code",
   "execution_count": 13,
   "metadata": {
    "collapsed": false,
    "jupyter": {
     "outputs_hidden": false
    },
    "pycharm": {
     "name": "#%%\n"
    }
   },
   "outputs": [
    {
     "name": "stdout",
     "output_type": "stream",
     "text": [
      "CPU times: user 10min 59s, sys: 1min 17s, total: 12min 17s\n",
      "Wall time: 12min 17s\n"
     ]
    }
   ],
   "source": [
    "%%time\n",
    "f = np.load('/media/sil2/Data/regev/video_features.npz')\n",
    "features = f['arr_0']"
   ]
  },
  {
   "cell_type": "code",
   "execution_count": 7,
   "metadata": {
    "pycharm": {
     "name": "#%%\n"
    }
   },
   "outputs": [
    {
     "data": {
      "text/plain": [
       "(216000, 100352)"
      ]
     },
     "execution_count": 7,
     "metadata": {},
     "output_type": "execute_result"
    }
   ],
   "source": [
    "idx = np.random.choice(np.arange(features.shape[0]), size=features.shape[0]//2, replace=False)\n",
    "features = features[idx, :]\n",
    "features.shape"
   ]
  },
  {
   "cell_type": "code",
   "execution_count": 9,
   "metadata": {
    "collapsed": false,
    "jupyter": {
     "outputs_hidden": false
    },
    "pycharm": {
     "is_executing": true,
     "name": "#%%\n"
    }
   },
   "outputs": [
    {
     "data": {
      "text/plain": [
       "PCA(n_components=100)"
      ]
     },
     "execution_count": 9,
     "metadata": {},
     "output_type": "execute_result"
    }
   ],
   "source": [
    "from sklearn.decomposition import PCA\n",
    "\n",
    "pca = PCA(n_components=100)\n",
    "pca.fit(features)"
   ]
  },
  {
   "cell_type": "code",
   "execution_count": 3,
   "metadata": {
    "pycharm": {
     "name": "#%%\n"
    }
   },
   "outputs": [],
   "source": [
    "vid = cv2.VideoCapture(video_file)\n",
    "n_frames = int(vid.get(cv2.CAP_PROP_FRAME_COUNT))\n",
    "\n",
    "frames = []\n",
    "for i in range(n_frames):\n",
    "    ret, frame = vid.read()\n",
    "    frame = cv2.cvtColor(frame, cv2.COLOR_BGR2GRAY)\n",
    "    frames.append(frame)"
   ]
  },
  {
   "cell_type": "code",
   "execution_count": 4,
   "metadata": {
    "tags": [],
    "pycharm": {
     "name": "#%%\n"
    }
   },
   "outputs": [],
   "source": [
    "n_frames = len(frames)\n",
    "test_idx = np.random.choice(np.arange(n_frames), int(n_frames*0.2))"
   ]
  },
  {
   "cell_type": "code",
   "execution_count": 6,
   "metadata": {
    "pycharm": {
     "name": "#%%\n"
    }
   },
   "outputs": [],
   "source": [
    "for i, frame in enumerate(frames):\n",
    "    fldr = 'test' if i in test_idx else 'train'\n",
    "    cv2.imwrite(f'/media/sil2/Data/regev/SUM_GAN/videos/video_subshot/pogona_mark1/{fldr}/{i}.jpg', frame)"
   ]
  },
  {
   "cell_type": "code",
   "execution_count": 10,
   "metadata": {
    "collapsed": false,
    "jupyter": {
     "outputs_hidden": false
    },
    "pycharm": {
     "name": "#%%\n"
    }
   },
   "outputs": [],
   "source": [
    "pcs = pca.transform(features)"
   ]
  },
  {
   "cell_type": "code",
   "execution_count": 52,
   "metadata": {
    "pycharm": {
     "name": "#%%\n"
    }
   },
   "outputs": [],
   "source": []
  },
  {
   "cell_type": "code",
   "execution_count": 57,
   "metadata": {
    "collapsed": false,
    "jupyter": {
     "outputs_hidden": false
    },
    "pycharm": {
     "name": "#%%\n"
    }
   },
   "outputs": [
    {
     "name": "stdout",
     "output_type": "stream",
     "text": [
      "Warning: Cannot change to a different GUI toolkit: notebook. Using tk instead.\n"
     ]
    },
    {
     "data": {
      "text/plain": [
       "8"
      ]
     },
     "execution_count": 57,
     "metadata": {},
     "output_type": "execute_result"
    }
   ],
   "source": [
    "%matplotlib notebook\n",
    "from matplotlib.offsetbox import OffsetImage, AnnotationBbox\n",
    "c = np.arange(pcs.shape[0])\n",
    "norm = plt.Normalize(1,4)\n",
    "cmap = plt.cm.RdYlGn\n",
    "\n",
    "# x, y = pcs[:,0], pcs[:,1]\n",
    "x, y = X_embedded[:, 0], X_embedded[: ,1]\n",
    "fig, ax = plt.subplots()\n",
    "sc = ax.scatter(x,y)\n",
    "im = OffsetImage(frames[0], zoom=0.1)\n",
    "ab = AnnotationBbox(im, (0,0), xybox=xybox, xycoords='data',\n",
    "        boxcoords=\"offset points\",  pad=0.3,  arrowprops=dict(arrowstyle=\"->\"))\n",
    "# annot = ax.annotate(\"\", xy=(0,0), xytext=(20,20),textcoords=\"offset points\", bbox=dict(boxstyle=\"round\", fc=\"w\"), arrowprops=dict(arrowstyle=\"->\"))\n",
    "ax.add_artist(ab)\n",
    "ab.set_visible(False)\n",
    "\n",
    "xybox=(100., 100.)\n",
    "\n",
    "\n",
    "def update_annot(ind):\n",
    "    pos = sc.get_offsets()[ind[\"ind\"][0]]\n",
    "    annot.xy = pos\n",
    "    annot.set_text(f'{ind[\"ind\"]}')\n",
    "    annot.get_bbox_patch().set_facecolor(cmap(norm(c[ind[\"ind\"][0]])))\n",
    "    annot.get_bbox_patch().set_alpha(0.4)\n",
    "\n",
    "\n",
    "def update_annot_image(ind, event):\n",
    "    # get the figure size\n",
    "    w,h = fig.get_size_inches() * fig.dpi\n",
    "    ws = (event.x > w/2.)*-1 + (event.x <= w/2.)\n",
    "    hs = (event.y > h/2.)*-1 + (event.y <= h/2.)\n",
    "    # if event occurs in the top or right quadrant of the figure,\n",
    "    # change the annotation box position relative to mouse.\n",
    "    ab.xybox = (xybox[0]*ws, xybox[1]*hs)\n",
    "    # # make annotation box visible\n",
    "    ab.set_visible(True)\n",
    "    # place it at the position of the hovered scatter point\n",
    "    pos = sc.get_offsets()[ind[\"ind\"][0]]\n",
    "    ab.xy = pos\n",
    "    # set the image corresponding to that point\n",
    "    im.set_data(frames[ind[\"ind\"][0]])\n",
    "\n",
    "def hover(event):\n",
    "    vis = annot.get_visible()\n",
    "    if event.inaxes == ax:\n",
    "        cont, ind = sc.contains(event)\n",
    "        if cont:\n",
    "            # update_annot(ind)\n",
    "            update_annot_image(ind, event)\n",
    "            fig.canvas.draw_idle()\n",
    "        else:\n",
    "            if vis:\n",
    "                ab.set_visible(False)\n",
    "                fig.canvas.draw_idle()\n",
    "\n",
    "                \n",
    "fig.canvas.mpl_connect(\"motion_notify_event\", hover)"
   ]
  },
  {
   "cell_type": "code",
   "execution_count": 12,
   "metadata": {
    "collapsed": false,
    "jupyter": {
     "outputs_hidden": false
    },
    "pycharm": {
     "name": "#%%\n"
    }
   },
   "outputs": [
    {
     "data": {
      "text/plain": [
       "<mpl_toolkits.mplot3d.art3d.Path3DCollection at 0x7f1638242af0>"
      ]
     },
     "execution_count": 12,
     "metadata": {},
     "output_type": "execute_result"
    }
   ],
   "source": [
    "from mpl_toolkits import mplot3d\n",
    "%matplotlib tk\n",
    "\n",
    "fig = plt.figure()\n",
    "ax = plt.axes(projection='3d')\n",
    "ax.scatter(pcs[:,0], pcs[:,1],pcs[:,2])"
   ]
  },
  {
   "cell_type": "code",
   "execution_count": 23,
   "metadata": {
    "pycharm": {
     "name": "#%%\n"
    }
   },
   "outputs": [],
   "source": [
    "%matplotlib inline"
   ]
  },
  {
   "cell_type": "code",
   "execution_count": 28,
   "metadata": {
    "pycharm": {
     "name": "#%%\n"
    }
   },
   "outputs": [
    {
     "data": {
      "text/plain": [
       "<matplotlib.collections.PathCollection at 0x7f89b3bd44f0>"
      ]
     },
     "execution_count": 28,
     "metadata": {},
     "output_type": "execute_result"
    },
    {
     "data": {
      "image/png": "[encoded data removed]",
      "text/plain": [
       "<Figure size 432x288 with 1 Axes>"
      ]
     },
     "metadata": {
      "needs_background": "light"
     },
     "output_type": "display_data"
    }
   ],
   "source": [
    "from sklearn.cluster import KMeans\n",
    "\n",
    "kmeans = KMeans(n_clusters=2, random_state=0).fit(pcs[:,:2])\n",
    "plt.scatter(pcs[:,0], pcs[:,1], c=kmeans.labels_)"
   ]
  },
  {
   "cell_type": "code",
   "execution_count": 56,
   "metadata": {
    "pycharm": {
     "name": "#%%\n"
    }
   },
   "outputs": [
    {
     "data": {
      "text/plain": [
       "<matplotlib.collections.PathCollection at 0x7f12085114c0>"
      ]
     },
     "execution_count": 56,
     "metadata": {},
     "output_type": "execute_result"
    },
    {
     "data": {
      "image/png": "[encoded data removed]",
      "text/plain": [
       "<Figure size 432x288 with 1 Axes>"
      ]
     },
     "metadata": {
      "needs_background": "light"
     },
     "output_type": "display_data"
    }
   ],
   "source": [
    "%matplotlib inline\n",
    "from sklearn.manifold import TSNE\n",
    "\n",
    "X_embedded = TSNE(n_components=2, learning_rate='auto', init='random').fit_transform(pcs)\n",
    "plt.scatter(X_embedded[:,0], X_embedded[:,1])"
   ]
  },
  {
   "cell_type": "code",
   "execution_count": null,
   "metadata": {
    "pycharm": {
     "name": "#%%\n"
    }
   },
   "outputs": [],
   "source": []
  },
  {
   "cell_type": "code",
   "execution_count": 4,
   "metadata": {
    "collapsed": false,
    "jupyter": {
     "outputs_hidden": false
    },
    "pycharm": {
     "name": "#%%\n"
    }
   },
   "outputs": [],
   "source": [
    "rootdir, channel = '/media/sil2/Data/Lizard/Pogona Data/Lizard15/12.14.2015/18-26-12_cheetah', 32  # mark\n",
    "video_file = f'{Path(rootdir).parent}/18-26-12_videos/2015-12-14_18-26-12-sub-10-fullFile--614316-Converted--1-614316.avi'"
   ]
  },
  {
   "cell_type": "code",
   "execution_count": 3,
   "metadata": {
    "collapsed": false,
    "jupyter": {
     "outputs_hidden": false
    },
    "pycharm": {
     "name": "#%%\n"
    }
   },
   "outputs": [
    {
     "name": "stdout",
     "output_type": "stream",
     "text": [
      "Reader initialized. fs=32000Hz, duration=17.1 hours\n"
     ]
    }
   ],
   "source": [
    "rd = NeuralynxReader(rootdir, channel=channel)\n",
    "sc = rd.load_slow_cycles()\n",
    "print(f'Reader initialized. fs={rd.fs:.0f}Hz, duration={rd.time_vector[-1]/3600:.1f} hours')"
   ]
  },
  {
   "cell_type": "code",
   "execution_count": 11,
   "metadata": {
    "pycharm": {
     "name": "#%%\n"
    },
    "tags": []
   },
   "outputs": [],
   "source": [
    "vid = cv2.VideoCapture(video_file)\n",
    "pics = []\n",
    "for _ in range(3):\n",
    "  ret, frame = vid.read()\n",
    "  gray = cv2.cvtColor(frame ,cv2.COLOR_BGR2GRAY)\n",
    "  gray = cv2.resize(gray, (0, 0), fx=0.3, fy=0.3)\n",
    "  pics.append(gray)"
   ]
  },
  {
   "cell_type": "code",
   "execution_count": null,
   "metadata": {
    "collapsed": false,
    "jupyter": {
     "outputs_hidden": false
    },
    "pycharm": {
     "name": "#%%\n"
    }
   },
   "outputs": [],
   "source": [
    "descriptors = np.array([])\n",
    "for pic in pics:\n",
    "    kp, des = cv2.SIFT().detectAndCompute(pic, None)\n",
    "    descriptors = np.append(descriptors, des)\n",
    "\n",
    "desc = np.reshape(descriptors, (len(descriptors)/128, 128))\n",
    "desc = np.float32(desc)\n",
    "desc.shape"
   ]
  },
  {
   "cell_type": "code",
   "execution_count": null,
   "metadata": {
    "collapsed": false,
    "jupyter": {
     "outputs_hidden": false
    },
    "pycharm": {
     "name": "#%%\n"
    }
   },
   "outputs": [],
   "source": [
    "del descriptors, des, kp, pic"
   ]
  },
  {
   "cell_type": "code",
   "execution_count": 20,
   "metadata": {
    "collapsed": false,
    "jupyter": {
     "outputs_hidden": false
    },
    "pycharm": {
     "name": "#%%\n"
    }
   },
   "outputs": [
    {
     "data": {
      "text/plain": [
       "array([[ 0.,  0.,  0., ...,  0.,  0., 30.],\n",
       "       [ 0., 23., 79., ..., 28., 11.,  0.],\n",
       "       [ 8., 52., 79., ..., 10.,  9.,  1.],\n",
       "       ...,\n",
       "       [ 3.,  0.,  1., ...,  0.,  0.,  0.],\n",
       "       [ 1., 15., 11., ...,  0.,  0.,  1.],\n",
       "       [ 3.,  0.,  0., ...,  0.,  0.,  0.]], dtype=float32)"
      ]
     },
     "execution_count": 20,
     "metadata": {},
     "output_type": "execute_result"
    }
   ],
   "source": [
    "sift = cv2.SIFT_create()\n",
    "kp, des = sift.detectAndCompute(gray, None)\n",
    "des"
   ]
  },
  {
   "cell_type": "code",
   "execution_count": null,
   "metadata": {
    "collapsed": false,
    "jupyter": {
     "outputs_hidden": false
    },
    "pycharm": {
     "name": "#%%\n"
    }
   },
   "outputs": [],
   "source": []
  }
 ],
 "metadata": {
  "kernelspec": {
   "display_name": "Python 3 (ipykernel)",
   "language": "python",
   "name": "python3"
  },
  "language_info": {
   "codemirror_mode": {
    "name": "ipython",
    "version": 3
   },
   "file_extension": ".py",
   "mimetype": "text/x-python",
   "name": "python",
   "nbconvert_exporter": "python",
   "pygments_lexer": "ipython3",
   "version": "3.8.12"
  }
 },
 "nbformat": 4,
 "nbformat_minor": 4
}