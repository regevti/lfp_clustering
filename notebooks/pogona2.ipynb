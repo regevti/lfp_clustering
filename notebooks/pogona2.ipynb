{
 "cells": [
  {
   "cell_type": "code",
   "execution_count": 7,
   "outputs": [
    {
     "name": "stdout",
     "output_type": "stream",
     "text": [
      "The autoreload extension is already loaded. To reload it, use:\n",
      "  %reload_ext autoreload\n"
     ]
    }
   ],
   "source": [
    "%load_ext autoreload\n",
    "%autoreload 2\n",
    "from readers.base import NeuralynxReader\n",
    "import matplotlib.pyplot as plt\n",
    "from scipy.signal import find_peaks, decimate\n",
    "import numpy as np\n",
    "from pathlib import Path\n",
    "import pandas as pd\n",
    "import stumpy\n",
    "from numba import cuda\n",
    "import matplotlib.colors as mcolors\n",
    "from detectors.motives import MotifFinder\n",
    "%matplotlib tk"
   ],
   "metadata": {
    "collapsed": false,
    "pycharm": {
     "name": "#%%\n"
    }
   }
  },
  {
   "cell_type": "code",
   "execution_count": 2,
   "metadata": {
    "collapsed": true
   },
   "outputs": [
    {
     "name": "stdout",
     "output_type": "stream",
     "text": [
      "No matching header close date/time for application {} version Cheetah. Please contact developers.\n",
      "No matching header close date/time for application {} version Cheetah. Please contact developers.\n",
      "No matching header close date/time for application {} version Cheetah. Please contact developers.\n",
      "No matching header close date/time for application {} version Cheetah. Please contact developers.\n",
      "No matching header close date/time for application {} version Cheetah. Please contact developers.\n",
      "No matching header close date/time for application {} version Cheetah. Please contact developers.\n",
      "No matching header close date/time for application {} version Cheetah. Please contact developers.\n",
      "No matching header close date/time for application {} version Cheetah. Please contact developers.\n",
      "No matching header close date/time for application {} version Cheetah. Please contact developers.\n",
      "No matching header close date/time for application {} version Cheetah. Please contact developers.\n",
      "No matching header close date/time for application {} version Cheetah. Please contact developers.\n",
      "No matching header close date/time for application {} version Cheetah. Please contact developers.\n",
      "No matching header close date/time for application {} version Cheetah. Please contact developers.\n",
      "No matching header close date/time for application {} version Cheetah. Please contact developers.\n",
      "No matching header close date/time for application {} version Cheetah. Please contact developers.\n",
      "No matching header close date/time for application {} version Cheetah. Please contact developers.\n",
      "No matching header close date/time for application {} version Cheetah. Please contact developers.\n",
      "No matching header close date/time for application {} version Cheetah. Please contact developers.\n",
      "No matching header close date/time for application {} version Cheetah. Please contact developers.\n",
      "No matching header close date/time for application {} version Cheetah. Please contact developers.\n",
      "No matching header close date/time for application {} version Cheetah. Please contact developers.\n",
      "No matching header close date/time for application {} version Cheetah. Please contact developers.\n",
      "No matching header close date/time for application {} version Cheetah. Please contact developers.\n",
      "No matching header close date/time for application {} version Cheetah. Please contact developers.\n",
      "No matching header close date/time for application {} version Cheetah. Please contact developers.\n",
      "No matching header close date/time for application {} version Cheetah. Please contact developers.\n",
      "No matching header close date/time for application {} version Cheetah. Please contact developers.\n",
      "No matching header close date/time for application {} version Cheetah. Please contact developers.\n",
      "No matching header close date/time for application {} version Cheetah. Please contact developers.\n",
      "No matching header close date/time for application {} version Cheetah. Please contact developers.\n",
      "No matching header close date/time for application {} version Cheetah. Please contact developers.\n",
      "No matching header close date/time for application {} version Cheetah. Please contact developers.\n",
      "No matching header close date/time for application {} version Cheetah. Please contact developers.\n",
      "No matching header close date/time for application {} version Cheetah. Please contact developers.\n",
      "No matching header close date/time for application {} version Cheetah. Please contact developers.\n",
      "No matching header close date/time for application {} version Cheetah. Please contact developers.\n",
      "No matching header close date/time for application {} version Cheetah. Please contact developers.\n",
      "No matching header close date/time for application {} version Cheetah. Please contact developers.\n",
      "No matching header close date/time for application {} version Cheetah. Please contact developers.\n",
      "No matching header close date/time for application {} version Cheetah. Please contact developers.\n",
      "No matching header close date/time for application {} version Cheetah. Please contact developers.\n",
      "No matching header close date/time for application {} version Cheetah. Please contact developers.\n",
      "No matching header close date/time for application {} version Cheetah. Please contact developers.\n",
      "No matching header close date/time for application {} version Cheetah. Please contact developers.\n",
      "No matching header close date/time for application {} version Cheetah. Please contact developers.\n",
      "No matching header close date/time for application {} version Cheetah. Please contact developers.\n",
      "No matching header close date/time for application {} version Cheetah. Please contact developers.\n",
      "No matching header close date/time for application {} version Cheetah. Please contact developers.\n",
      "No matching header close date/time for application {} version Cheetah. Please contact developers.\n",
      "No matching header close date/time for application {} version Cheetah. Please contact developers.\n",
      "No matching header close date/time for application {} version Cheetah. Please contact developers.\n",
      "No matching header close date/time for application {} version Cheetah. Please contact developers.\n",
      "No matching header close date/time for application {} version Cheetah. Please contact developers.\n",
      "No matching header close date/time for application {} version Cheetah. Please contact developers.\n",
      "No matching header close date/time for application {} version Cheetah. Please contact developers.\n",
      "No matching header close date/time for application {} version Cheetah. Please contact developers.\n",
      "No matching header close date/time for application {} version Cheetah. Please contact developers.\n",
      "No matching header close date/time for application {} version Cheetah. Please contact developers.\n",
      "No matching header close date/time for application {} version Cheetah. Please contact developers.\n",
      "No matching header close date/time for application {} version Cheetah. Please contact developers.\n",
      "No matching header close date/time for application {} version Cheetah. Please contact developers.\n",
      "No matching header close date/time for application {} version Cheetah. Please contact developers.\n",
      "No matching header close date/time for application {} version Cheetah. Please contact developers.\n",
      "No matching header close date/time for application {} version Cheetah. Please contact developers.\n",
      "No matching header close date/time for application {} version Cheetah. Please contact developers.\n",
      "No matching header close date/time for application {} version Cheetah. Please contact developers.\n",
      "No matching header close date/time for application {} version Cheetah. Please contact developers.\n",
      "No matching header close date/time for application {} version Cheetah. Please contact developers.\n",
      "No matching header close date/time for application {} version Cheetah. Please contact developers.\n",
      "No matching header close date/time for application {} version Cheetah. Please contact developers.\n",
      "No matching header close date/time for application {} version Cheetah. Please contact developers.\n",
      "No matching header close date/time for application {} version Cheetah. Please contact developers.\n",
      "No matching header close date/time for application {} version Cheetah. Please contact developers.\n",
      "No matching header close date/time for application {} version Cheetah. Please contact developers.\n",
      "No matching header close date/time for application {} version Cheetah. Please contact developers.\n",
      "No matching header close date/time for application {} version Cheetah. Please contact developers.\n",
      "No matching header close date/time for application {} version Cheetah. Please contact developers.\n",
      "No matching header close date/time for application {} version Cheetah. Please contact developers.\n",
      "No matching header close date/time for application {} version Cheetah. Please contact developers.\n",
      "No matching header close date/time for application {} version Cheetah. Please contact developers.\n",
      "No matching header close date/time for application {} version Cheetah. Please contact developers.\n",
      "No matching header close date/time for application {} version Cheetah. Please contact developers.\n",
      "No matching header close date/time for application {} version Cheetah. Please contact developers.\n",
      "No matching header close date/time for application {} version Cheetah. Please contact developers.\n",
      "No matching header close date/time for application {} version Cheetah. Please contact developers.\n",
      "No matching header close date/time for application {} version Cheetah. Please contact developers.\n",
      "No matching header close date/time for application {} version Cheetah. Please contact developers.\n",
      "No matching header close date/time for application {} version Cheetah. Please contact developers.\n",
      "No matching header close date/time for application {} version Cheetah. Please contact developers.\n",
      "No matching header close date/time for application {} version Cheetah. Please contact developers.\n",
      "No matching header close date/time for application {} version Cheetah. Please contact developers.\n",
      "No matching header close date/time for application {} version Cheetah. Please contact developers.\n",
      "No matching header close date/time for application {} version Cheetah. Please contact developers.\n",
      "No matching header close date/time for application {} version Cheetah. Please contact developers.\n",
      "No matching header close date/time for application {} version Cheetah. Please contact developers.\n",
      "No matching header close date/time for application {} version Cheetah. Please contact developers.\n",
      "No matching header close date/time for application {} version Cheetah. Please contact developers.\n",
      "No matching header close date/time for application {} version Cheetah. Please contact developers.\n",
      "No matching header close date/time for application {} version Cheetah. Please contact developers.\n",
      "No matching header close date/time for application {} version Cheetah. Please contact developers.\n",
      "No matching header close date/time for application {} version Cheetah. Please contact developers.\n",
      "No matching header close date/time for application {} version Cheetah. Please contact developers.\n",
      "No matching header close date/time for application {} version Cheetah. Please contact developers.\n",
      "No matching header close date/time for application {} version Cheetah. Please contact developers.\n",
      "No matching header close date/time for application {} version Cheetah. Please contact developers.\n",
      "No matching header close date/time for application {} version Cheetah. Please contact developers.\n",
      "No matching header close date/time for application {} version Cheetah. Please contact developers.\n",
      "No matching header close date/time for application {} version Cheetah. Please contact developers.\n",
      "No matching header close date/time for application {} version Cheetah. Please contact developers.\n",
      "Reader initialized. fs=32000Hz, duration=17.1 hours\n",
      "CPU times: user 4.1 s, sys: 5.59 s, total: 9.69 s\n",
      "Wall time: 14.4 s\n"
     ]
    }
   ],
   "source": [
    "%%time\n",
    "rootdir, channel = '/media/sil2/Data/Lizard/Pogona Data/Lizard15/12.14.2015/18-26-12_cheetah', 32 #mark\n",
    "# rootdir, channel = '/media/sil2/Data/Lizard/lorenz_data/2019-11-17_17-43-33', 31 # lorenz\n",
    "# rootdir, channel = '/media/sil2/Data/Lizard/lorenz_data/2019-10-21_18-00-39', 31  # lorenz - no claustrum\n",
    "rd = NeuralynxReader(rootdir, channel=channel)\n",
    "sc = rd.load_slow_cycles()\n",
    "print(f'Reader initialized. fs={rd.fs:.0f}Hz, duration={rd.time_vector[-1]/3600:.1f} hours')"
   ]
  },
  {
   "cell_type": "code",
   "execution_count": 12,
   "outputs": [
    {
     "name": "stdout",
     "output_type": "stream",
     "text": [
      "Finish calculating matrix profile with window of 1.2 seconds in 0.5 minutes.\n",
      "CPU times: user 28.6 s, sys: 601 ms, total: 29.2 s\n",
      "Wall time: 28.3 s\n"
     ]
    }
   ],
   "source": [
    "%%time\n",
    "%matplotlib inline\n",
    "cycle_id = 50\n",
    "mf = MotifFinder(rd, decimate_q=15, lowpass=50, filter_order=3)\n",
    "cache_dir = mf.search(t_start=sc.loc[cycle_id, 'on'], t_stop=sc.loc[cycle_id+3, 'off'], durations=[1.2],\n",
    "                      durations2remove=[1.2], is_cache=True)"
   ],
   "metadata": {
    "collapsed": false,
    "pycharm": {
     "name": "#%%\n"
    }
   }
  },
  {
   "cell_type": "code",
   "execution_count": 14,
   "outputs": [
    {
     "name": "stdout",
     "output_type": "stream",
     "text": [
      "No matching header close date/time for application {} version Cheetah. Please contact developers.\n",
      "No matching header close date/time for application {} version Cheetah. Please contact developers.\n",
      "No matching header close date/time for application {} version Cheetah. Please contact developers.\n",
      "No matching header close date/time for application {} version Cheetah. Please contact developers.\n",
      "No matching header close date/time for application {} version Cheetah. Please contact developers.\n",
      "No matching header close date/time for application {} version Cheetah. Please contact developers.\n",
      "No matching header close date/time for application {} version Cheetah. Please contact developers.\n",
      "No matching header close date/time for application {} version Cheetah. Please contact developers.\n",
      "No matching header close date/time for application {} version Cheetah. Please contact developers.\n",
      "No matching header close date/time for application {} version Cheetah. Please contact developers.\n",
      "No matching header close date/time for application {} version Cheetah. Please contact developers.\n",
      "No matching header close date/time for application {} version Cheetah. Please contact developers.\n",
      "No matching header close date/time for application {} version Cheetah. Please contact developers.\n",
      "No matching header close date/time for application {} version Cheetah. Please contact developers.\n",
      "No matching header close date/time for application {} version Cheetah. Please contact developers.\n",
      "No matching header close date/time for application {} version Cheetah. Please contact developers.\n",
      "No matching header close date/time for application {} version Cheetah. Please contact developers.\n",
      "No matching header close date/time for application {} version Cheetah. Please contact developers.\n",
      "No matching header close date/time for application {} version Cheetah. Please contact developers.\n",
      "No matching header close date/time for application {} version Cheetah. Please contact developers.\n",
      "No matching header close date/time for application {} version Cheetah. Please contact developers.\n",
      "No matching header close date/time for application {} version Cheetah. Please contact developers.\n",
      "No matching header close date/time for application {} version Cheetah. Please contact developers.\n",
      "No matching header close date/time for application {} version Cheetah. Please contact developers.\n",
      "No matching header close date/time for application {} version Cheetah. Please contact developers.\n",
      "No matching header close date/time for application {} version Cheetah. Please contact developers.\n",
      "No matching header close date/time for application {} version Cheetah. Please contact developers.\n",
      "No matching header close date/time for application {} version Cheetah. Please contact developers.\n",
      "No matching header close date/time for application {} version Cheetah. Please contact developers.\n",
      "No matching header close date/time for application {} version Cheetah. Please contact developers.\n",
      "No matching header close date/time for application {} version Cheetah. Please contact developers.\n",
      "No matching header close date/time for application {} version Cheetah. Please contact developers.\n",
      "No matching header close date/time for application {} version Cheetah. Please contact developers.\n",
      "No matching header close date/time for application {} version Cheetah. Please contact developers.\n",
      "No matching header close date/time for application {} version Cheetah. Please contact developers.\n",
      "No matching header close date/time for application {} version Cheetah. Please contact developers.\n",
      "No matching header close date/time for application {} version Cheetah. Please contact developers.\n",
      "No matching header close date/time for application {} version Cheetah. Please contact developers.\n",
      "No matching header close date/time for application {} version Cheetah. Please contact developers.\n",
      "No matching header close date/time for application {} version Cheetah. Please contact developers.\n",
      "No matching header close date/time for application {} version Cheetah. Please contact developers.\n",
      "No matching header close date/time for application {} version Cheetah. Please contact developers.\n",
      "No matching header close date/time for application {} version Cheetah. Please contact developers.\n",
      "No matching header close date/time for application {} version Cheetah. Please contact developers.\n",
      "No matching header close date/time for application {} version Cheetah. Please contact developers.\n",
      "No matching header close date/time for application {} version Cheetah. Please contact developers.\n",
      "No matching header close date/time for application {} version Cheetah. Please contact developers.\n",
      "No matching header close date/time for application {} version Cheetah. Please contact developers.\n",
      "No matching header close date/time for application {} version Cheetah. Please contact developers.\n",
      "No matching header close date/time for application {} version Cheetah. Please contact developers.\n",
      "No matching header close date/time for application {} version Cheetah. Please contact developers.\n",
      "No matching header close date/time for application {} version Cheetah. Please contact developers.\n",
      "No matching header close date/time for application {} version Cheetah. Please contact developers.\n",
      "No matching header close date/time for application {} version Cheetah. Please contact developers.\n",
      "No matching header close date/time for application {} version Cheetah. Please contact developers.\n",
      "No matching header close date/time for application {} version Cheetah. Please contact developers.\n",
      "No matching header close date/time for application {} version Cheetah. Please contact developers.\n",
      "No matching header close date/time for application {} version Cheetah. Please contact developers.\n",
      "No matching header close date/time for application {} version Cheetah. Please contact developers.\n",
      "No matching header close date/time for application {} version Cheetah. Please contact developers.\n",
      "No matching header close date/time for application {} version Cheetah. Please contact developers.\n",
      "No matching header close date/time for application {} version Cheetah. Please contact developers.\n",
      "No matching header close date/time for application {} version Cheetah. Please contact developers.\n",
      "No matching header close date/time for application {} version Cheetah. Please contact developers.\n",
      "No matching header close date/time for application {} version Cheetah. Please contact developers.\n",
      "No matching header close date/time for application {} version Cheetah. Please contact developers.\n",
      "No matching header close date/time for application {} version Cheetah. Please contact developers.\n",
      "No matching header close date/time for application {} version Cheetah. Please contact developers.\n",
      "No matching header close date/time for application {} version Cheetah. Please contact developers.\n",
      "No matching header close date/time for application {} version Cheetah. Please contact developers.\n",
      "No matching header close date/time for application {} version Cheetah. Please contact developers.\n",
      "No matching header close date/time for application {} version Cheetah. Please contact developers.\n",
      "No matching header close date/time for application {} version Cheetah. Please contact developers.\n",
      "No matching header close date/time for application {} version Cheetah. Please contact developers.\n",
      "No matching header close date/time for application {} version Cheetah. Please contact developers.\n",
      "No matching header close date/time for application {} version Cheetah. Please contact developers.\n",
      "No matching header close date/time for application {} version Cheetah. Please contact developers.\n",
      "No matching header close date/time for application {} version Cheetah. Please contact developers.\n",
      "No matching header close date/time for application {} version Cheetah. Please contact developers.\n",
      "No matching header close date/time for application {} version Cheetah. Please contact developers.\n",
      "No matching header close date/time for application {} version Cheetah. Please contact developers.\n",
      "No matching header close date/time for application {} version Cheetah. Please contact developers.\n",
      "No matching header close date/time for application {} version Cheetah. Please contact developers.\n",
      "No matching header close date/time for application {} version Cheetah. Please contact developers.\n",
      "No matching header close date/time for application {} version Cheetah. Please contact developers.\n",
      "No matching header close date/time for application {} version Cheetah. Please contact developers.\n",
      "No matching header close date/time for application {} version Cheetah. Please contact developers.\n",
      "No matching header close date/time for application {} version Cheetah. Please contact developers.\n",
      "No matching header close date/time for application {} version Cheetah. Please contact developers.\n",
      "No matching header close date/time for application {} version Cheetah. Please contact developers.\n",
      "No matching header close date/time for application {} version Cheetah. Please contact developers.\n",
      "No matching header close date/time for application {} version Cheetah. Please contact developers.\n",
      "No matching header close date/time for application {} version Cheetah. Please contact developers.\n",
      "No matching header close date/time for application {} version Cheetah. Please contact developers.\n",
      "No matching header close date/time for application {} version Cheetah. Please contact developers.\n",
      "No matching header close date/time for application {} version Cheetah. Please contact developers.\n",
      "No matching header close date/time for application {} version Cheetah. Please contact developers.\n",
      "No matching header close date/time for application {} version Cheetah. Please contact developers.\n",
      "No matching header close date/time for application {} version Cheetah. Please contact developers.\n",
      "No matching header close date/time for application {} version Cheetah. Please contact developers.\n",
      "No matching header close date/time for application {} version Cheetah. Please contact developers.\n",
      "No matching header close date/time for application {} version Cheetah. Please contact developers.\n",
      "No matching header close date/time for application {} version Cheetah. Please contact developers.\n",
      "No matching header close date/time for application {} version Cheetah. Please contact developers.\n",
      "No matching header close date/time for application {} version Cheetah. Please contact developers.\n",
      "No matching header close date/time for application {} version Cheetah. Please contact developers.\n",
      "No matching header close date/time for application {} version Cheetah. Please contact developers.\n",
      "No matching header close date/time for application {} version Cheetah. Please contact developers.\n",
      "No matching header close date/time for application {} version Cheetah. Please contact developers.\n"
     ]
    },
    {
     "data": {
      "text/plain": "<Figure size 1800x288 with 5 Axes>",
      "image/png": "[encoded data removed]"
     },
     "metadata": {
      "needs_background": "light"
     },
     "output_type": "display_data"
    }
   ],
   "source": [
    "mf = MotifFinder(cache_dir=cache_dir)\n",
    "mf.plot_found_motives()"
   ],
   "metadata": {
    "collapsed": false,
    "pycharm": {
     "name": "#%%\n"
    }
   }
  },
  {
   "cell_type": "code",
   "execution_count": 165,
   "outputs": [
    {
     "name": "stdout",
     "output_type": "stream",
     "text": [
      "Motif ID: 0; Finish mass motif search in 0.0 minutes. # of motives found: 16\n",
      "Motif ID: 3; Finish mass motif search in 0.0 minutes. # of motives found: 12\n",
      "Motif ID: 4; Finish mass motif search in 0.0 minutes. # of motives found: 4\n"
     ]
    }
   ],
   "source": [
    "%matplotlib tk\n",
    "cycle_id = 40\n",
    "mf.plot_labelled_signal(t_start=sc.loc[cycle_id, 'on'], t_stop=sc.loc[cycle_id, 'off'], motives_ids=[0,3,4], max_dist=[30, 25, 25])"
   ],
   "metadata": {
    "collapsed": false,
    "pycharm": {
     "name": "#%%\n"
    }
   }
  },
  {
   "cell_type": "code",
   "execution_count": 168,
   "outputs": [
    {
     "name": "stdout",
     "output_type": "stream",
     "text": [
      "Motif ID: 3; Finish mass motif search in 1.5 minutes. # of motives found: 285\n",
      "Motif ID: 4; Finish mass motif search in 1.6 minutes. # of motives found: 29\n"
     ]
    }
   ],
   "source": [
    "mf.plot_motif_rate_vs_time([0,3,4], max_dist=25, rate_window=30*60)"
   ],
   "metadata": {
    "collapsed": false,
    "pycharm": {
     "name": "#%%\n"
    }
   }
  },
  {
   "cell_type": "code",
   "execution_count": 134,
   "outputs": [
    {
     "ename": "AttributeError",
     "evalue": "'MotifFinder' object has no attribute 'calc_overlap_motives'",
     "output_type": "error",
     "traceback": [
      "\u001B[0;31m---------------------------------------------------------------------------\u001B[0m",
      "\u001B[0;31mAttributeError\u001B[0m                            Traceback (most recent call last)",
      "Input \u001B[0;32mIn [134]\u001B[0m, in \u001B[0;36m<cell line: 2>\u001B[0;34m()\u001B[0m\n\u001B[1;32m      1\u001B[0m cycle_id \u001B[38;5;241m=\u001B[39m \u001B[38;5;241m0\u001B[39m\n\u001B[0;32m----> 2\u001B[0m motives, P \u001B[38;5;241m=\u001B[39m \u001B[43mmf\u001B[49m\u001B[38;5;241;43m.\u001B[39;49m\u001B[43mcalc_overlap_motives\u001B[49m(t_start\u001B[38;5;241m=\u001B[39msc\u001B[38;5;241m.\u001B[39mloc[cycle_id, \u001B[38;5;124m'\u001B[39m\u001B[38;5;124mon\u001B[39m\u001B[38;5;124m'\u001B[39m], t_stop\u001B[38;5;241m=\u001B[39msc\u001B[38;5;241m.\u001B[39mloc[cycle_id\u001B[38;5;241m+\u001B[39m\u001B[38;5;241m2\u001B[39m, \u001B[38;5;124m'\u001B[39m\u001B[38;5;124moff\u001B[39m\u001B[38;5;124m'\u001B[39m], max_overlap\u001B[38;5;241m=\u001B[39m\u001B[38;5;241m0.5\u001B[39m, max_dist\u001B[38;5;241m=\u001B[39m\u001B[38;5;241m40\u001B[39m)\n\u001B[1;32m      3\u001B[0m \u001B[38;5;28;01mwith\u001B[39;00m np\u001B[38;5;241m.\u001B[39mprintoptions(precision\u001B[38;5;241m=\u001B[39m\u001B[38;5;241m2\u001B[39m, suppress\u001B[38;5;241m=\u001B[39m\u001B[38;5;28;01mTrue\u001B[39;00m):\n\u001B[1;32m      4\u001B[0m     \u001B[38;5;28mprint\u001B[39m(P)\n",
      "\u001B[0;31mAttributeError\u001B[0m: 'MotifFinder' object has no attribute 'calc_overlap_motives'"
     ]
    }
   ],
   "source": [
    "cycle_id = 0\n",
    "motives, P = mf.calc_overlap_motives(t_start=sc.loc[cycle_id, 'on'], t_stop=sc.loc[cycle_id+2, 'off'], max_overlap=0.5, max_dist=40)\n",
    "with np.printoptions(precision=2, suppress=True):\n",
    "    print(P)\n",
    "motives"
   ],
   "metadata": {
    "collapsed": false,
    "pycharm": {
     "name": "#%%\n"
    }
   }
  },
  {
   "cell_type": "code",
   "execution_count": 158,
   "outputs": [],
   "source": [
    "from pickle import dump\n",
    "\n",
    "with Path('../output/motives/pogona1.pkl').open('wb') as f:\n",
    "  dump({'mf': mf}, f)"
   ],
   "metadata": {
    "collapsed": false,
    "pycharm": {
     "name": "#%%\n"
    }
   }
  },
  {
   "cell_type": "code",
   "execution_count": 55,
   "outputs": [
    {
     "name": "stdout",
     "output_type": "stream",
     "text": [
      "0->1: 54%  |  1->0: 58%\n",
      "0->6: 66%  |  6->0: 21%\n",
      "0->7: 63%  |  7->0: 23%\n",
      "0->8: 74%  |  8->0: 21%\n",
      "0->9: 62%  |  9->0: 21%\n",
      "0->10: 64%  |  10->0: 24%\n",
      "0->11: 71%  |  11->0: 22%\n",
      "0->12: 71%  |  12->0: 20%\n",
      "0->13: 70%  |  13->0: 20%\n",
      "1->0: 58%  |  0->1: 54%\n",
      "1->6: 65%  |  6->1: 19%\n",
      "1->7: 61%  |  7->1: 20%\n",
      "1->8: 72%  |  8->1: 19%\n",
      "1->9: 63%  |  9->1: 20%\n",
      "1->10: 60%  |  10->1: 21%\n",
      "1->11: 66%  |  11->1: 19%\n",
      "1->12: 72%  |  12->1: 19%\n",
      "1->13: 70%  |  13->1: 19%\n",
      "2->1: 53%  |  1->2: 44%\n",
      "2->6: 73%  |  6->2: 18%\n",
      "2->7: 50%  |  7->2: 14%\n",
      "2->8: 68%  |  8->2: 15%\n",
      "2->9: 69%  |  9->2: 18%\n",
      "2->10: 58%  |  10->2: 17%\n",
      "2->11: 65%  |  11->2: 16%\n",
      "2->12: 75%  |  12->2: 16%\n",
      "2->13: 78%  |  13->2: 17%\n",
      "3->6: 72%  |  6->3: 22%\n",
      "3->8: 57%  |  8->3: 16%\n",
      "3->9: 70%  |  9->3: 23%\n",
      "3->12: 73%  |  12->3: 20%\n",
      "3->13: 74%  |  13->3: 20%\n",
      "4->0: 61%  |  0->4: 42%\n",
      "4->6: 74%  |  6->4: 16%\n",
      "4->7: 57%  |  7->4: 14%\n",
      "4->8: 71%  |  8->4: 14%\n",
      "4->9: 71%  |  9->4: 16%\n",
      "4->10: 51%  |  10->4: 13%\n",
      "4->11: 61%  |  11->4: 13%\n",
      "4->12: 76%  |  12->4: 14%\n",
      "4->13: 77%  |  13->4: 15%\n",
      "5->2: 54%  |  2->5: 37%\n",
      "5->3: 65%  |  3->5: 35%\n",
      "5->6: 79%  |  6->5: 13%\n",
      "5->8: 71%  |  8->5: 11%\n",
      "5->9: 79%  |  9->5: 14%\n",
      "5->11: 56%  |  11->5: 9%\n",
      "5->12: 83%  |  12->5: 12%\n",
      "5->13: 84%  |  13->5: 13%\n",
      "5->14: 50%  |  14->5: 15%\n",
      "6->7: 55%  |  7->6: 61%\n",
      "6->8: 71%  |  8->6: 63%\n",
      "6->9: 77%  |  9->6: 80%\n",
      "6->10: 53%  |  10->6: 62%\n",
      "6->11: 65%  |  11->6: 64%\n",
      "6->12: 79%  |  12->6: 69%\n",
      "6->13: 83%  |  13->6: 74%\n",
      "7->6: 61%  |  6->7: 55%\n",
      "7->8: 82%  |  8->7: 65%\n",
      "7->9: 58%  |  9->7: 55%\n",
      "7->10: 74%  |  10->7: 77%\n",
      "7->11: 79%  |  11->7: 69%\n",
      "7->12: 74%  |  12->7: 58%\n",
      "7->13: 68%  |  13->7: 54%\n",
      "8->6: 63%  |  6->8: 71%\n",
      "8->7: 65%  |  7->8: 82%\n",
      "8->9: 63%  |  9->8: 75%\n",
      "8->10: 59%  |  10->8: 78%\n",
      "8->11: 69%  |  11->8: 77%\n",
      "8->12: 75%  |  12->8: 75%\n",
      "8->13: 68%  |  13->8: 69%\n",
      "9->6: 80%  |  6->9: 77%\n",
      "9->7: 55%  |  7->9: 58%\n",
      "9->8: 75%  |  8->9: 63%\n",
      "9->10: 52%  |  10->9: 58%\n",
      "9->11: 64%  |  11->9: 60%\n",
      "9->12: 85%  |  12->9: 71%\n",
      "9->13: 79%  |  13->9: 68%\n",
      "10->6: 62%  |  6->10: 53%\n",
      "10->7: 77%  |  7->10: 74%\n",
      "10->8: 78%  |  8->10: 59%\n",
      "10->9: 58%  |  9->10: 52%\n",
      "10->11: 84%  |  11->10: 70%\n",
      "10->12: 72%  |  12->10: 55%\n",
      "10->13: 69%  |  13->10: 53%\n",
      "11->6: 64%  |  6->11: 65%\n",
      "11->7: 69%  |  7->11: 79%\n",
      "11->8: 77%  |  8->11: 69%\n",
      "11->9: 60%  |  9->11: 64%\n",
      "11->10: 70%  |  10->11: 84%\n",
      "11->12: 72%  |  12->11: 65%\n",
      "11->13: 70%  |  13->11: 64%\n",
      "12->6: 69%  |  6->12: 79%\n",
      "12->7: 58%  |  7->12: 74%\n",
      "12->8: 75%  |  8->12: 75%\n",
      "12->9: 71%  |  9->12: 85%\n",
      "12->10: 55%  |  10->12: 72%\n",
      "12->11: 65%  |  11->12: 72%\n",
      "12->13: 73%  |  13->12: 74%\n",
      "13->6: 74%  |  6->13: 83%\n",
      "13->7: 54%  |  7->13: 68%\n",
      "13->8: 69%  |  8->13: 68%\n",
      "13->9: 68%  |  9->13: 79%\n",
      "13->10: 53%  |  10->13: 69%\n",
      "13->11: 64%  |  11->13: 70%\n",
      "13->12: 74%  |  12->13: 73%\n",
      "14->6: 77%  |  6->14: 44%\n",
      "14->7: 63%  |  7->14: 40%\n",
      "14->8: 80%  |  8->14: 40%\n",
      "14->9: 73%  |  9->14: 43%\n",
      "14->10: 62%  |  10->14: 41%\n",
      "14->11: 75%  |  11->14: 41%\n",
      "14->12: 85%  |  12->14: 43%\n",
      "14->13: 84%  |  13->14: 42%\n"
     ]
    }
   ],
   "source": [
    "for i in range(P.shape[0]):\n",
    "  for j in range(P.shape[0]):\n",
    "    if i == j:\n",
    "      continue\n",
    "    elif P[i, j] > 0.5:\n",
    "      print(f'{i}->{j}: {P[i, j]:.0%}  |  {j}->{i}: {P[j, i]:.0%}')"
   ],
   "metadata": {
    "collapsed": false,
    "pycharm": {
     "name": "#%%\n"
    }
   }
  },
  {
   "cell_type": "code",
   "execution_count": 55,
   "outputs": [],
   "source": [],
   "metadata": {
    "collapsed": false,
    "pycharm": {
     "name": "#%%\n"
    }
   }
  },
  {
   "cell_type": "code",
   "execution_count": null,
   "outputs": [],
   "source": [],
   "metadata": {
    "collapsed": false,
    "pycharm": {
     "name": "#%%\n"
    }
   }
  },
  {
   "cell_type": "code",
   "execution_count": 10,
   "outputs": [
    {
     "name": "stderr",
     "output_type": "stream",
     "text": [
      "/home/regev/PycharmProjects/lfp_clustering/readers/neuralynx_io.py:130: UserWarning: Unable to parse time string from Neuralynx header: ## Time Closed File was not closed properly\n",
      "  warnings.warn('Unable to parse time string from Neuralynx header: ' + time_string)\n"
     ]
    }
   ],
   "source": [
    "from readers.neuralynx_io import load_ncs\n",
    "\n",
    "ncs = load_ncs(f'{rootdir}/CSC32.ncs')"
   ],
   "metadata": {
    "collapsed": false,
    "pycharm": {
     "name": "#%%\n"
    }
   }
  },
  {
   "cell_type": "code",
   "execution_count": 12,
   "outputs": [
    {
     "data": {
      "text/plain": "1973023232"
     },
     "execution_count": 12,
     "metadata": {},
     "output_type": "execute_result"
    }
   ],
   "source": [
    "len(ncs['data'])"
   ],
   "metadata": {
    "collapsed": false,
    "pycharm": {
     "name": "#%%\n"
    }
   }
  },
  {
   "cell_type": "code",
   "execution_count": null,
   "outputs": [],
   "source": [],
   "metadata": {
    "collapsed": false,
    "pycharm": {
     "name": "#%%\n"
    }
   }
  }
 ],
 "metadata": {
  "kernelspec": {
   "display_name": "Python 3",
   "language": "python",
   "name": "python3"
  },
  "language_info": {
   "codemirror_mode": {
    "name": "ipython",
    "version": 2
   },
   "file_extension": ".py",
   "mimetype": "text/x-python",
   "name": "python",
   "nbconvert_exporter": "python",
   "pygments_lexer": "ipython2",
   "version": "2.7.6"
  }
 },
 "nbformat": 4,
 "nbformat_minor": 0
}