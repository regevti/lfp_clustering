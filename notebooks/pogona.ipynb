{
 "cells": [
  {
   "cell_type": "code",
   "execution_count": 12,
   "metadata": {
    "collapsed": true
   },
   "outputs": [
    {
     "name": "stdout",
     "output_type": "stream",
     "text": [
      "The autoreload extension is already loaded. To reload it, use:\n",
      "  %reload_ext autoreload\n"
     ]
    }
   ],
   "source": [
    "%load_ext autoreload\n",
    "%autoreload 2\n",
    "from readers.base import NeuralynxReader\n",
    "import matplotlib.pyplot as plt\n",
    "import numpy as np\n",
    "import pandas as pd"
   ]
  },
  {
   "cell_type": "code",
   "execution_count": 7,
   "outputs": [],
   "source": [
    "rootdir = '/media/sil2/Data/Lizard/lorenz_data/2019-11-17_17-43-33'\n",
    "rd = NeuralynxReader(rootdir, channel=32)"
   ],
   "metadata": {
    "collapsed": false,
    "pycharm": {
     "name": "#%%\n"
    }
   }
  },
  {
   "cell_type": "code",
   "execution_count": 71,
   "outputs": [
    {
     "name": "stdout",
     "output_type": "stream",
     "text": [
      "CPU times: user 6.73 s, sys: 10 s, total: 16.8 s\n",
      "Wall time: 16.8 s\n"
     ]
    }
   ],
   "source": [
    "%%time\n",
    "v = rd.read()"
   ],
   "metadata": {
    "collapsed": false,
    "pycharm": {
     "name": "#%%\n"
    }
   }
  },
  {
   "cell_type": "code",
   "execution_count": 18,
   "outputs": [
    {
     "name": "stdout",
     "output_type": "stream",
     "text": [
      "nb_block 1\n",
      "nb_segment [1]\n",
      "signal_streams [('signals', '0')]\n",
      "signal_channels [('CSC1', '19', 32000., 'int16', 'uV', 0.01525926, 0., '0')\n",
      " ('CSC10', '14', 32000., 'int16', 'uV', 0.01525926, 0., '0')\n",
      " ('CSC11', '2', 32000., 'int16', 'uV', 0.01525926, 0., '0')\n",
      " ('CSC12', '13', 32000., 'int16', 'uV', 0.01525926, 0., '0')\n",
      " ('CSC13', '3', 32000., 'int16', 'uV', 0.01525926, 0., '0')\n",
      " ('CSC14', '12', 32000., 'int16', 'uV', 0.01525926, 0., '0')\n",
      " ('CSC15', '5', 32000., 'int16', 'uV', 0.01525926, 0., '0')\n",
      " ('CSC16', '10', 32000., 'int16', 'uV', 0.01525926, 0., '0')\n",
      " ('CSC17', '6', 32000., 'int16', 'uV', 0.01525926, 0., '0')\n",
      " ('CSC18', '9', 32000., 'int16', 'uV', 0.01525926, 0., '0')\n",
      " ('CSC19', '7', 32000., 'int16', 'uV', 0.01525926, 0., '0')\n",
      " ('CSC2', '28', 32000., 'int16', 'uV', 0.01525926, 0., '0')\n",
      " ('CSC20', '8', 32000., 'int16', 'uV', 0.01525926, 0., '0')\n",
      " ('CSC21', '18', 32000., 'int16', 'uV', 0.01525926, 0., '0')\n",
      " ('CSC22', '29', 32000., 'int16', 'uV', 0.01525926, 0., '0')\n",
      " ('CSC23', '17', 32000., 'int16', 'uV', 0.01525926, 0., '0')\n",
      " ('CSC24', '30', 32000., 'int16', 'uV', 0.01525926, 0., '0')\n",
      " ('CSC25', '16', 32000., 'int16', 'uV', 0.01525926, 0., '0')\n",
      " ('CSC26', '31', 32000., 'int16', 'uV', 0.01525926, 0., '0')\n",
      " ('CSC27', '20', 32000., 'int16', 'uV', 0.01525926, 0., '0')\n",
      " ('CSC28', '27', 32000., 'int16', 'uV', 0.01525926, 0., '0')\n",
      " ('CSC29', '0', 32000., 'int16', 'uV', 0.01525926, 0., '0')\n",
      " ('CSC3', '21', 32000., 'int16', 'uV', 0.01525926, 0., '0')\n",
      " ('CSC30', '15', 32000., 'int16', 'uV', 0.01525926, 0., '0')\n",
      " ('CSC31', '4', 32000., 'int16', 'uV', 0.01525926, 0., '0')\n",
      " ('CSC32', '11', 32000., 'int16', 'uV', 0.01525926, 0., '0')\n",
      " ('CSC33', '51', 32000., 'int16', 'uV', 0.01525926, 0., '0')\n",
      " ('CSC34', '60', 32000., 'int16', 'uV', 0.01525926, 0., '0')\n",
      " ('CSC35', '53', 32000., 'int16', 'uV', 0.01525926, 0., '0')\n",
      " ('CSC36', '58', 32000., 'int16', 'uV', 0.01525926, 0., '0')\n",
      " ('CSC37', '54', 32000., 'int16', 'uV', 0.01525926, 0., '0')\n",
      " ('CSC38', '57', 32000., 'int16', 'uV', 0.01525926, 0., '0')\n",
      " ('CSC39', '55', 32000., 'int16', 'uV', 0.01525926, 0., '0')\n",
      " ('CSC4', '26', 32000., 'int16', 'uV', 0.01525926, 0., '0')\n",
      " ('CSC40', '56', 32000., 'int16', 'uV', 0.01525926, 0., '0')\n",
      " ('CSC41', '33', 32000., 'int16', 'uV', 0.01525926, 0., '0')\n",
      " ('CSC42', '46', 32000., 'int16', 'uV', 0.01525926, 0., '0')\n",
      " ('CSC43', '34', 32000., 'int16', 'uV', 0.01525926, 0., '0')\n",
      " ('CSC44', '45', 32000., 'int16', 'uV', 0.01525926, 0., '0')\n",
      " ('CSC45', '35', 32000., 'int16', 'uV', 0.01525926, 0., '0')\n",
      " ('CSC46', '44', 32000., 'int16', 'uV', 0.01525926, 0., '0')\n",
      " ('CSC47', '37', 32000., 'int16', 'uV', 0.01525926, 0., '0')\n",
      " ('CSC48', '42', 32000., 'int16', 'uV', 0.01525926, 0., '0')\n",
      " ('CSC49', '38', 32000., 'int16', 'uV', 0.01525926, 0., '0')\n",
      " ('CSC5', '22', 32000., 'int16', 'uV', 0.01525926, 0., '0')\n",
      " ('CSC50', '41', 32000., 'int16', 'uV', 0.01525926, 0., '0')\n",
      " ('CSC51', '39', 32000., 'int16', 'uV', 0.01525926, 0., '0')\n",
      " ('CSC52', '40', 32000., 'int16', 'uV', 0.01525926, 0., '0')\n",
      " ('CSC53', '50', 32000., 'int16', 'uV', 0.01525926, 0., '0')\n",
      " ('CSC54', '61', 32000., 'int16', 'uV', 0.01525926, 0., '0')\n",
      " ('CSC55', '49', 32000., 'int16', 'uV', 0.01525926, 0., '0')\n",
      " ('CSC56', '62', 32000., 'int16', 'uV', 0.01525926, 0., '0')\n",
      " ('CSC57', '48', 32000., 'int16', 'uV', 0.01525926, 0., '0')\n",
      " ('CSC58', '63', 32000., 'int16', 'uV', 0.01525926, 0., '0')\n",
      " ('CSC59', '52', 32000., 'int16', 'uV', 0.01525926, 0., '0')\n",
      " ('CSC6', '25', 32000., 'int16', 'uV', 0.01525926, 0., '0')\n",
      " ('CSC60', '59', 32000., 'int16', 'uV', 0.01525926, 0., '0')\n",
      " ('CSC61', '32', 32000., 'int16', 'uV', 0.01525926, 0., '0')\n",
      " ('CSC62', '47', 32000., 'int16', 'uV', 0.01525926, 0., '0')\n",
      " ('CSC63', '36', 32000., 'int16', 'uV', 0.01525926, 0., '0')\n",
      " ('CSC64', '43', 32000., 'int16', 'uV', 0.01525926, 0., '0')\n",
      " ('CSC7', '23', 32000., 'int16', 'uV', 0.01525926, 0., '0')\n",
      " ('CSC8', '24', 32000., 'int16', 'uV', 0.01525926, 0., '0')\n",
      " ('CSC9', '1', 32000., 'int16', 'uV', 0.01525926, 0., '0')]\n",
      "spike_channels []\n",
      "event_channels [('Events event_id=11 ttl=0', 'unknown', b'event')\n",
      " ('Events event_id=11 ttl=1', 'unknown', b'event')]\n"
     ]
    }
   ],
   "source": [
    "for k, v in rd.reader.header.items():\n",
    "  print(k, v)"
   ],
   "metadata": {
    "collapsed": false,
    "pycharm": {
     "name": "#%%\n"
    }
   }
  },
  {
   "cell_type": "code",
   "execution_count": 69,
   "outputs": [
    {
     "data": {
      "text/plain": "32000.0"
     },
     "execution_count": 69,
     "metadata": {},
     "output_type": "execute_result"
    }
   ],
   "source": [
    "rd.fs"
   ],
   "metadata": {
    "collapsed": false,
    "pycharm": {
     "name": "#%%\n"
    }
   }
  },
  {
   "cell_type": "code",
   "execution_count": 74,
   "outputs": [
    {
     "data": {
      "text/plain": "(1786635777,)"
     },
     "execution_count": 74,
     "metadata": {},
     "output_type": "execute_result"
    }
   ],
   "source": [
    "t = np.arange(rd.reader.segment_t_start(block_index=0, seg_index=0), rd.reader.segment_t_stop(block_index=0, seg_index=0), 1/rd.fs)\n",
    "t.shape"
   ],
   "metadata": {
    "collapsed": false,
    "pycharm": {
     "name": "#%%\n"
    }
   }
  },
  {
   "cell_type": "code",
   "execution_count": 80,
   "outputs": [
    {
     "data": {
      "text/plain": "array([3])"
     },
     "execution_count": 80,
     "metadata": {},
     "output_type": "execute_result"
    }
   ],
   "source": [
    "x = np.array([1,2,3])\n",
    "x[2:None]"
   ],
   "metadata": {
    "collapsed": false,
    "pycharm": {
     "name": "#%%\n"
    }
   }
  },
  {
   "cell_type": "code",
   "execution_count": 67,
   "outputs": [],
   "source": [
    "ev_timestamps, ev_durations, ev_labels = rd.reader.get_event_timestamps(block_index=0, seg_index=0, event_channel_index=0,\n",
    "                                                                        t_start=None, t_stop=None)\n",
    "ev_timestamps = rd.reader.rescale_event_timestamp(ev_timestamps, dtype='float64', event_channel_index=0)"
   ],
   "metadata": {
    "collapsed": false,
    "pycharm": {
     "name": "#%%\n"
    }
   }
  },
  {
   "cell_type": "code",
   "execution_count": 68,
   "outputs": [
    {
     "data": {
      "text/plain": "55832.36300000176"
     },
     "execution_count": 68,
     "metadata": {},
     "output_type": "execute_result"
    }
   ],
   "source": [
    "ev_timestamps[-1]"
   ],
   "metadata": {
    "collapsed": false,
    "pycharm": {
     "name": "#%%\n"
    }
   }
  },
  {
   "cell_type": "code",
   "execution_count": 64,
   "outputs": [],
   "source": [
    "raw_sigs = rd.reader.get_analogsignal_chunk(block_index=0, seg_index=0, i_start=0, i_stop=10000,\n",
    "                                                      channel_names=[f'CSC32'])"
   ],
   "metadata": {
    "collapsed": false,
    "pycharm": {
     "name": "#%%\n"
    }
   }
  },
  {
   "cell_type": "code",
   "execution_count": 65,
   "outputs": [
    {
     "data": {
      "text/plain": "array([[-276],\n       [-204],\n       [-176],\n       ...,\n       [-363],\n       [-405],\n       [-391]], dtype=int16)"
     },
     "execution_count": 65,
     "metadata": {},
     "output_type": "execute_result"
    }
   ],
   "source": [
    "raw_sigs"
   ],
   "metadata": {
    "collapsed": false,
    "pycharm": {
     "name": "#%%\n"
    }
   }
  },
  {
   "cell_type": "code",
   "execution_count": null,
   "outputs": [],
   "source": [],
   "metadata": {
    "collapsed": false,
    "pycharm": {
     "name": "#%%\n"
    }
   }
  }
 ],
 "metadata": {
  "kernelspec": {
   "display_name": "Python 3",
   "language": "python",
   "name": "python3"
  },
  "language_info": {
   "codemirror_mode": {
    "name": "ipython",
    "version": 2
   },
   "file_extension": ".py",
   "mimetype": "text/x-python",
   "name": "python",
   "nbconvert_exporter": "python",
   "pygments_lexer": "ipython2",
   "version": "2.7.6"
  }
 },
 "nbformat": 4,
 "nbformat_minor": 0
}